{
 "cells": [
  {
   "cell_type": "code",
   "execution_count": 1,
   "id": "a82362d0",
   "metadata": {},
   "outputs": [
    {
     "name": "stdout",
     "output_type": "stream",
     "text": [
      "CUDA is available!  Training on GPU ...\n"
     ]
    }
   ],
   "source": [
    "from pathlib import Path\n",
    "import os\n",
    "import torch\n",
    "import torch.nn as nn\n",
    "import torch.nn.functional as F\n",
    "from torchvision.datasets import ImageFolder\n",
    "from torch.utils.data import DataLoader\n",
    "import torchvision.transforms as tt\n",
    "from torch.utils.data import random_split\n",
    "from torchvision import datasets ,transforms\n",
    "import torch.optim as optim\n",
    "import numpy as np\n",
    "import matplotlib.pyplot as plt\n",
    "\n",
    "\n",
    "train_on_gpu = torch.cuda.is_available()\n",
    "if not train_on_gpu:\n",
    "    print('CUDA is not available.  Training on CPU ...')\n",
    "else:\n",
    "    print('CUDA is available!  Training on GPU ...')\n"
   ]
  },
  {
   "cell_type": "code",
   "execution_count": 2,
   "id": "10a2f358",
   "metadata": {},
   "outputs": [
    {
     "name": "stdout",
     "output_type": "stream",
     "text": [
      "torch.Size([400, 3, 100, 100]) torch.Size([400])\n"
     ]
    }
   ],
   "source": [
    "PATH_train=\"fruits-360_dataset/fruits-360/Training\"\n",
    "PATH_test=\"fruits-360_dataset/fruits-360/Test\"\n",
    "\n",
    "\n",
    "TRAIN = Path(PATH_train)\n",
    "\n",
    "TEST = Path(PATH_test)\n",
    "\n",
    "\n",
    "num_workers = 2\n",
    "\n",
    "batch_size = 400\n",
    "\n",
    "\n",
    "train_transforms = transforms.Compose([ transforms.RandomCrop(100, padding=4, padding_mode='reflect'), \n",
    "                         transforms.Resize((100,100)),\n",
    "                         transforms.RandomHorizontalFlip(), \n",
    "                         transforms.ToTensor(), \n",
    "                               ])\n",
    "\n",
    "test_transforms= transforms.Compose([transforms.ToTensor(),\n",
    "                                      transforms.Resize((100,100)),\n",
    "                                                        ])\n",
    "\n",
    "\n",
    "train_data = datasets.ImageFolder(TRAIN, transform=train_transforms)\n",
    "test_data = datasets.ImageFolder(TEST, transform=test_transforms)\n",
    "\n",
    "\n",
    "#切割資料集\n",
    "torch.manual_seed(43)\n",
    "val_size = round(len(train_data) * 0.2)\n",
    "train_size = round(len(train_data) - val_size)\n",
    " \n",
    " \n",
    "train_ds, val_ds = random_split(train_data, [train_size, val_size])\n",
    "len(train_ds), len(val_ds)\n",
    "\n",
    "\n",
    "train_loader = torch.utils.data.DataLoader(train_ds, batch_size=batch_size, num_workers=num_workers,shuffle=True,pin_memory=True)\n",
    "test_loader = torch.utils.data.DataLoader(test_data, batch_size=batch_size*2,  num_workers=num_workers,pin_memory=True)\n",
    "valid_loader = torch.utils.data.DataLoader(val_ds, batch_size=batch_size*2,  num_workers=num_workers,pin_memory=True)\n",
    "\n",
    "\n",
    "\n",
    "\n",
    "dataset_size = len(train_loader)\n",
    "test_dataset_size = len(test_loader)\n",
    "\n",
    "images, labels=next(iter(train_loader))\n",
    "print(images.shape, labels.shape)"
   ]
  },
  {
   "cell_type": "code",
   "execution_count": 3,
   "id": "88cb6739",
   "metadata": {},
   "outputs": [
    {
     "data": {
      "text/plain": [
       "(136, 29)"
      ]
     },
     "execution_count": 3,
     "metadata": {},
     "output_type": "execute_result"
    }
   ],
   "source": [
    "len(train_loader),len(test_loader)"
   ]
  },
  {
   "cell_type": "code",
   "execution_count": 4,
   "id": "9dde2f7f",
   "metadata": {},
   "outputs": [
    {
     "name": "stdout",
     "output_type": "stream",
     "text": [
      "Total Number of Classe 131\n",
      "Classes Names: ['Apple Braeburn', 'Apple Crimson Snow', 'Apple Golden 1', 'Apple Golden 2', 'Apple Golden 3', 'Apple Granny Smith', 'Apple Pink Lady', 'Apple Red 1', 'Apple Red 2', 'Apple Red 3', 'Apple Red Delicious', 'Apple Red Yellow 1', 'Apple Red Yellow 2', 'Apricot', 'Avocado', 'Avocado ripe', 'Banana', 'Banana Lady Finger', 'Banana Red', 'Beetroot', 'Blueberry', 'Cactus fruit', 'Cantaloupe 1', 'Cantaloupe 2', 'Carambula', 'Cauliflower', 'Cherry 1', 'Cherry 2', 'Cherry Rainier', 'Cherry Wax Black', 'Cherry Wax Red', 'Cherry Wax Yellow', 'Chestnut', 'Clementine', 'Cocos', 'Corn', 'Corn Husk', 'Cucumber Ripe', 'Cucumber Ripe 2', 'Dates', 'Eggplant', 'Fig', 'Ginger Root', 'Granadilla', 'Grape Blue', 'Grape Pink', 'Grape White', 'Grape White 2', 'Grape White 3', 'Grape White 4', 'Grapefruit Pink', 'Grapefruit White', 'Guava', 'Hazelnut', 'Huckleberry', 'Kaki', 'Kiwi', 'Kohlrabi', 'Kumquats', 'Lemon', 'Lemon Meyer', 'Limes', 'Lychee', 'Mandarine', 'Mango', 'Mango Red', 'Mangostan', 'Maracuja', 'Melon Piel de Sapo', 'Mulberry', 'Nectarine', 'Nectarine Flat', 'Nut Forest', 'Nut Pecan', 'Onion Red', 'Onion Red Peeled', 'Onion White', 'Orange', 'Papaya', 'Passion Fruit', 'Peach', 'Peach 2', 'Peach Flat', 'Pear', 'Pear 2', 'Pear Abate', 'Pear Forelle', 'Pear Kaiser', 'Pear Monster', 'Pear Red', 'Pear Stone', 'Pear Williams', 'Pepino', 'Pepper Green', 'Pepper Orange', 'Pepper Red', 'Pepper Yellow', 'Physalis', 'Physalis with Husk', 'Pineapple', 'Pineapple Mini', 'Pitahaya Red', 'Plum', 'Plum 2', 'Plum 3', 'Pomegranate', 'Pomelo Sweetie', 'Potato Red', 'Potato Red Washed', 'Potato Sweet', 'Potato White', 'Quince', 'Rambutan', 'Raspberry', 'Redcurrant', 'Salak', 'Strawberry', 'Strawberry Wedge', 'Tamarillo', 'Tangelo', 'Tomato 1', 'Tomato 2', 'Tomato 3', 'Tomato 4', 'Tomato Cherry Red', 'Tomato Heart', 'Tomato Maroon', 'Tomato not Ripened', 'Tomato Yellow', 'Walnut', 'Watermelon']\n"
     ]
    }
   ],
   "source": [
    "data_dir = './fruits-360_dataset/fruits-360/'\n",
    " \n",
    "classes = os.listdir(data_dir + \"Training\")\n",
    "print(f'Total Number of Classe {len(classes)}')\n",
    "print(f'Classes Names: {classes}')"
   ]
  },
  {
   "cell_type": "code",
   "execution_count": 6,
   "id": "d7edd7c2",
   "metadata": {},
   "outputs": [
    {
     "data": {
      "text/plain": [
       "FruitCnnModel(\n",
       "  (network): Sequential(\n",
       "    (0): Conv2d(3, 16, kernel_size=(2, 2), stride=(1, 1), padding=(1, 1))\n",
       "    (1): BatchNorm2d(16, eps=1e-05, momentum=0.1, affine=True, track_running_stats=True)\n",
       "    (2): ReLU()\n",
       "    (3): MaxPool2d(kernel_size=2, stride=2, padding=0, dilation=1, ceil_mode=False)\n",
       "    (4): Conv2d(16, 32, kernel_size=(2, 2), stride=(1, 1), padding=(1, 1))\n",
       "    (5): BatchNorm2d(32, eps=1e-05, momentum=0.1, affine=True, track_running_stats=True)\n",
       "    (6): ReLU()\n",
       "    (7): MaxPool2d(kernel_size=2, stride=2, padding=0, dilation=1, ceil_mode=False)\n",
       "    (8): Conv2d(32, 64, kernel_size=(2, 2), stride=(1, 1), padding=(1, 1))\n",
       "    (9): BatchNorm2d(64, eps=1e-05, momentum=0.1, affine=True, track_running_stats=True)\n",
       "    (10): ReLU()\n",
       "    (11): MaxPool2d(kernel_size=5, stride=5, padding=0, dilation=1, ceil_mode=False)\n",
       "    (12): Flatten(start_dim=1, end_dim=-1)\n",
       "    (13): Dropout(p=0.5, inplace=False)\n",
       "    (14): ReLU()\n",
       "    (15): Linear(in_features=1600, out_features=131, bias=True)\n",
       "  )\n",
       ")"
      ]
     },
     "execution_count": 6,
     "metadata": {},
     "output_type": "execute_result"
    }
   ],
   "source": [
    "class FruitCnnModel(nn.Module):\n",
    "    def __init__(self):\n",
    "        super().__init__()\n",
    "        self.network = nn.Sequential(\n",
    "            \n",
    "            nn.Conv2d(3, 16, kernel_size=2, padding=1), #99\n",
    "            nn.BatchNorm2d(16),\n",
    "            nn.ReLU(),\n",
    "            nn.MaxPool2d(2, 2), #99/2=50\n",
    " \n",
    " \n",
    "            nn.Conv2d(16, 32, kernel_size=2, stride=1, padding=1), #49\n",
    "            nn.BatchNorm2d(32),\n",
    "            nn.ReLU(),\n",
    "            nn.MaxPool2d(2, 2), #49/2=25\n",
    " \n",
    " \n",
    "            nn.Conv2d(32, 64, kernel_size=2, stride=1, padding=1),#24\n",
    "            nn.BatchNorm2d(64),\n",
    "            nn.ReLU(),\n",
    "            nn.MaxPool2d(5, 5), #24/5=5\n",
    " \n",
    " \n",
    "            nn.Flatten(), \n",
    "            nn.Dropout(0.5),\n",
    "            nn.ReLU(),\n",
    "            nn.Linear(64*5*5, 131))\n",
    "        \n",
    "    def forward(self, xb):\n",
    "      return self.network(xb)\n",
    " \n",
    "  \n",
    "model = FruitCnnModel()\n",
    "model"
   ]
  },
  {
   "cell_type": "code",
   "execution_count": 7,
   "id": "68e4b271",
   "metadata": {
    "scrolled": true
   },
   "outputs": [
    {
     "name": "stdout",
     "output_type": "stream",
     "text": [
      "running epoch: 1\n",
      "\tTraining Loss: 1.279086 \tValidation Loss: 0.130870\n",
      "Validation loss decreased (inf --> 0.130870).  Saving model ...\n",
      "running epoch: 2\n",
      "\tTraining Loss: 0.133416 \tValidation Loss: 0.033106\n",
      "Validation loss decreased (0.130870 --> 0.033106).  Saving model ...\n",
      "running epoch: 3\n",
      "\tTraining Loss: 0.059184 \tValidation Loss: 0.014850\n",
      "Validation loss decreased (0.033106 --> 0.014850).  Saving model ...\n",
      "running epoch: 4\n",
      "\tTraining Loss: 0.038859 \tValidation Loss: 0.014931\n"
     ]
    }
   ],
   "source": [
    "if train_on_gpu:\n",
    "    model.cuda()\n",
    "\n",
    "criterion = nn.CrossEntropyLoss()\n",
    "optimizer = optim.Adam(model.parameters(), lr=0.001)\n",
    "n_epochs = 4\n",
    "valid_loss_min = np.Inf \n",
    "\n",
    "train_losses, valid_losses = [], []\n",
    "for epoch in range(1, n_epochs+1):\n",
    "    \n",
    "    train_loss = 0.0\n",
    "    valid_loss = 0.0\n",
    "    print('running epoch: {}'.format(epoch))\n",
    "    \n",
    "    model.train()\n",
    "    for data, target in train_loader:\n",
    "        \n",
    "        if train_on_gpu:\n",
    "            data, target = data.cuda(), target.cuda()\n",
    "        \n",
    "        optimizer.zero_grad()\n",
    "       \n",
    "        output = model(data)\n",
    "        \n",
    "        loss = criterion(output, target)\n",
    "        \n",
    "        loss.backward()\n",
    "        \n",
    "        optimizer.step()\n",
    "        \n",
    "        train_loss += loss.item()*data.size(0)\n",
    "        \n",
    "    \n",
    "    model.eval()\n",
    "    for data, target in valid_loader:\n",
    "        \n",
    "        if train_on_gpu:\n",
    "            data, target = data.cuda(), target.cuda()\n",
    "        \n",
    "        output = model(data)\n",
    "        \n",
    "        loss = criterion(output, target)\n",
    "         \n",
    "        valid_loss += loss.item()*data.size(0)\n",
    "    \n",
    "    \n",
    "    train_losses.append(train_loss/len(train_loader.dataset))\n",
    "    valid_losses.append(valid_loss/len(valid_loader.dataset))\n",
    "    train_loss = train_loss/len(train_loader.dataset)\n",
    "    valid_loss = valid_loss/len(valid_loader.dataset)\n",
    "    \n",
    "    \n",
    "     \n",
    "    print('\\tTraining Loss: {:.6f} \\tValidation Loss: {:.6f}'.format(train_loss, valid_loss))\n",
    "    \n",
    "    \n",
    "    if valid_loss <= valid_loss_min:\n",
    "        print('Validation loss decreased ({:.6f} --> {:.6f}).  Saving model ...'.format(valid_loss_min, valid_loss))\n",
    "        \n",
    "        torch.save(model.state_dict(), 'model_CNN.pth')\n",
    "        valid_loss_min = valid_loss\n",
    "        "
   ]
  },
  {
   "cell_type": "code",
   "execution_count": 9,
   "id": "c90904d9",
   "metadata": {},
   "outputs": [
    {
     "name": "stdout",
     "output_type": "stream",
     "text": [
      "Test Loss: 0.087553\n",
      "Test Accuracy: 98% (22248/22688)\n"
     ]
    }
   ],
   "source": [
    "def test(loaders, model, criterion, use_cuda):\n",
    "\n",
    "    \n",
    "    test_loss = 0.\n",
    "    correct = 0.\n",
    "    total = 0.\n",
    "    model.eval()\n",
    "    for batch_idx, (data, target) in enumerate(loaders):\n",
    "        \n",
    "        if use_cuda:\n",
    "            data, target = data.cuda(), target.cuda()\n",
    "        \n",
    "        output = model(data)\n",
    "        \n",
    "        loss = criterion(output, target)\n",
    "        \n",
    "        test_loss = test_loss + ((1 / (batch_idx + 1)) * (loss.data - test_loss))\n",
    "        \n",
    "        pred = output.data.max(1, keepdim=True)[1]\n",
    "        \n",
    "        correct += np.sum(pred.eq(target.data.view_as(pred)).cpu().numpy())\n",
    "        total += data.size(0)\n",
    "            \n",
    "    print('Test Loss: {:.6f}'.format(test_loss))\n",
    "    print('Test Accuracy: %2d%% (%2d/%2d)' % (100. * correct / total, correct, total))\n",
    "    \n",
    "\n",
    "use_cuda = torch.cuda.is_available()\n",
    "test(test_loader, model, criterion, use_cuda)      \n"
   ]
  },
  {
   "cell_type": "code",
   "execution_count": 16,
   "id": "06e89a0e",
   "metadata": {},
   "outputs": [
    {
     "data": {
      "image/png": "[encoded data removed]",
      "text/plain": [
       "<Figure size 640x480 with 1 Axes>"
      ]
     },
     "metadata": {},
     "output_type": "display_data"
    }
   ],
   "source": [
    "train_losses = [x for x in train_losses]\n",
    "epochs=[1,2,3,4]\n",
    "val_losses = [x for x in valid_losses]\n",
    "plt.plot(epochs,train_losses, '-bx')\n",
    "plt.plot(epochs,val_losses, '-rx')\n",
    "plt.xlabel('epoch')\n",
    "plt.ylabel('loss')\n",
    "plt.ylim(0,2)\n",
    "plt.legend(['Training', 'Validation'])\n",
    "plt.title('Loss vs. No. of epochs');\n",
    "\n",
    "plt.show()"
   ]
  },
  {
   "cell_type": "code",
   "execution_count": 10,
   "id": "88821f04",
   "metadata": {},
   "outputs": [],
   "source": [
    "def predict_image(img, model):\n",
    "    # Convert to a batch of 1\n",
    "    xb = (img.unsqueeze(0).cuda())\n",
    "    # Get predictions from model\n",
    "    yb = model(xb)\n",
    "    # Pick index with highest probability\n",
    "    _, preds  = torch.max(yb, dim=1)\n",
    "    # Retrieve the class label\n",
    "    return train_data.classes[preds[0].item()]"
   ]
  },
  {
   "cell_type": "code",
   "execution_count": 18,
   "id": "acd49a0f",
   "metadata": {},
   "outputs": [
    {
     "name": "stdout",
     "output_type": "stream",
     "text": [
      "Label: Grape White 2 Predicted: Grape White 2\n"
     ]
    },
    {
     "data": {
      "image/png": "[encoded data removed]",
      "text/plain": [
       "<Figure size 640x480 with 1 Axes>"
      ]
     },
     "metadata": {},
     "output_type": "display_data"
    }
   ],
   "source": [
    "img, label = test_data[8000]\n",
    "plt.imshow(img.permute(1, 2, 0))\n",
    "print('Label:', train_data.classes[label], 'Predicted:', predict_image(img, model))"
   ]
  },
  {
   "cell_type": "code",
   "execution_count": null,
   "id": "49f779df",
   "metadata": {},
   "outputs": [],
   "source": []
  }
 ],
 "metadata": {
  "kernelspec": {
   "display_name": "Python 3 (ipykernel)",
   "language": "python",
   "name": "python3"
  },
  "language_info": {
   "codemirror_mode": {
    "name": "ipython",
    "version": 3
   },
   "file_extension": ".py",
   "mimetype": "text/x-python",
   "name": "python",
   "nbconvert_exporter": "python",
   "pygments_lexer": "ipython3",
   "version": "3.9.7"
  }
 },
 "nbformat": 4,
 "nbformat_minor": 5
}
